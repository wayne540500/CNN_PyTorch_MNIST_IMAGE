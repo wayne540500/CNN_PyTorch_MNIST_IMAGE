{
  "nbformat": 4,
  "nbformat_minor": 0,
  "metadata": {
    "colab": {
      "provenance": [],
      "authorship_tag": "ABX9TyPnDbyhytUAXg+0UQ4Meq8Z",
      "include_colab_link": true
    },
    "kernelspec": {
      "name": "python3",
      "display_name": "Python 3"
    },
    "language_info": {
      "name": "python"
    }
  },
  "cells": [
    {
      "cell_type": "markdown",
      "metadata": {
        "id": "view-in-github",
        "colab_type": "text"
      },
      "source": [
        "<a href=\"https://colab.research.google.com/github/wayne540500/CNN_PyTorch_MNIST_IMAGE/blob/main/CNN_PyTorch_MNIST_IMAGE.ipynb\" target=\"_parent\"><img src=\"https://colab.research.google.com/assets/colab-badge.svg\" alt=\"Open In Colab\"/></a>"
      ]
    },
    {
      "cell_type": "code",
      "execution_count": 1,
      "metadata": {
        "id": "wlOcc8OzJOgj"
      },
      "outputs": [],
      "source": [
        "import torch\n",
        "import torch.nn as nn\n",
        "import torch.nn.functional as F\n",
        "from torch.utils.data import DataLoader\n",
        "from torchvision import datasets, transforms\n",
        "from torchvision.utils import make_grid\n",
        "import numpy as np\n",
        "import pandas as pd\n",
        "from sklearn.metrics import confusion_matrix\n",
        "import matplotlib.pyplot as plt\n",
        "%matplotlib inline\n"
      ]
    },
    {
      "cell_type": "code",
      "source": [
        "# convert mnist image into a tensor of 4-dimensions (num of images, height, weigth, color channel)\n",
        "transform = transforms.ToTensor()"
      ],
      "metadata": {
        "id": "EJrzTQ1Usc12"
      },
      "execution_count": 2,
      "outputs": []
    },
    {
      "cell_type": "code",
      "source": [
        "# train data\n",
        "train_data = datasets.MNIST(root = '/CNN_DATA', train=True, download=True, transform=transform)"
      ],
      "metadata": {
        "id": "syBnnBCNtFu6",
        "outputId": "86200f5f-7c41-4dea-df4b-45e2ce9a1986",
        "colab": {
          "base_uri": "https://localhost:8080/"
        }
      },
      "execution_count": 3,
      "outputs": [
        {
          "output_type": "stream",
          "name": "stdout",
          "text": [
            "Downloading http://yann.lecun.com/exdb/mnist/train-images-idx3-ubyte.gz\n",
            "Downloading http://yann.lecun.com/exdb/mnist/train-images-idx3-ubyte.gz to /CNN_DATA/MNIST/raw/train-images-idx3-ubyte.gz\n"
          ]
        },
        {
          "output_type": "stream",
          "name": "stderr",
          "text": [
            "100%|██████████| 9912422/9912422 [00:00<00:00, 349687210.83it/s]"
          ]
        },
        {
          "output_type": "stream",
          "name": "stdout",
          "text": [
            "Extracting /CNN_DATA/MNIST/raw/train-images-idx3-ubyte.gz to /CNN_DATA/MNIST/raw\n"
          ]
        },
        {
          "output_type": "stream",
          "name": "stderr",
          "text": [
            "\n"
          ]
        },
        {
          "output_type": "stream",
          "name": "stdout",
          "text": [
            "\n",
            "Downloading http://yann.lecun.com/exdb/mnist/train-labels-idx1-ubyte.gz\n",
            "Downloading http://yann.lecun.com/exdb/mnist/train-labels-idx1-ubyte.gz to /CNN_DATA/MNIST/raw/train-labels-idx1-ubyte.gz\n"
          ]
        },
        {
          "output_type": "stream",
          "name": "stderr",
          "text": [
            "100%|██████████| 28881/28881 [00:00<00:00, 25928016.66it/s]\n"
          ]
        },
        {
          "output_type": "stream",
          "name": "stdout",
          "text": [
            "Extracting /CNN_DATA/MNIST/raw/train-labels-idx1-ubyte.gz to /CNN_DATA/MNIST/raw\n",
            "\n",
            "Downloading http://yann.lecun.com/exdb/mnist/t10k-images-idx3-ubyte.gz\n",
            "Downloading http://yann.lecun.com/exdb/mnist/t10k-images-idx3-ubyte.gz to /CNN_DATA/MNIST/raw/t10k-images-idx3-ubyte.gz\n"
          ]
        },
        {
          "output_type": "stream",
          "name": "stderr",
          "text": [
            "100%|██████████| 1648877/1648877 [00:00<00:00, 171126129.48it/s]"
          ]
        },
        {
          "output_type": "stream",
          "name": "stdout",
          "text": [
            "Extracting /CNN_DATA/MNIST/raw/t10k-images-idx3-ubyte.gz to /CNN_DATA/MNIST/raw\n",
            "\n",
            "Downloading http://yann.lecun.com/exdb/mnist/t10k-labels-idx1-ubyte.gz\n"
          ]
        },
        {
          "output_type": "stream",
          "name": "stderr",
          "text": [
            "\n"
          ]
        },
        {
          "output_type": "stream",
          "name": "stdout",
          "text": [
            "Downloading http://yann.lecun.com/exdb/mnist/t10k-labels-idx1-ubyte.gz to /CNN_DATA/MNIST/raw/t10k-labels-idx1-ubyte.gz\n"
          ]
        },
        {
          "output_type": "stream",
          "name": "stderr",
          "text": [
            "100%|██████████| 4542/4542 [00:00<00:00, 11673118.12it/s]\n"
          ]
        },
        {
          "output_type": "stream",
          "name": "stdout",
          "text": [
            "Extracting /CNN_DATA/MNIST/raw/t10k-labels-idx1-ubyte.gz to /CNN_DATA/MNIST/raw\n",
            "\n"
          ]
        }
      ]
    },
    {
      "cell_type": "code",
      "source": [
        "# test data\n",
        "test_data = datasets.MNIST(root = '/CNN_DATA', train=False, download=True, transform=transform)"
      ],
      "metadata": {
        "id": "CEzibUggt1jT"
      },
      "execution_count": 4,
      "outputs": []
    },
    {
      "cell_type": "code",
      "source": [
        "train_data"
      ],
      "metadata": {
        "id": "osZeSGBsuA9w",
        "outputId": "8dc65ec9-1c61-4a6f-e793-f1da3de02e82",
        "colab": {
          "base_uri": "https://localhost:8080/"
        }
      },
      "execution_count": 5,
      "outputs": [
        {
          "output_type": "execute_result",
          "data": {
            "text/plain": [
              "Dataset MNIST\n",
              "    Number of datapoints: 60000\n",
              "    Root location: /CNN_DATA\n",
              "    Split: Train\n",
              "    StandardTransform\n",
              "Transform: ToTensor()"
            ]
          },
          "metadata": {},
          "execution_count": 5
        }
      ]
    },
    {
      "cell_type": "code",
      "source": [
        "# create small batch size of image\n",
        "train_loader = DataLoader(train_data, batch_size=10, shuffle=True)\n",
        "test_loader = DataLoader(test_data, batch_size=10, shuffle=False)"
      ],
      "metadata": {
        "id": "81i8-K-s2mTq"
      },
      "execution_count": 6,
      "outputs": []
    },
    {
      "cell_type": "code",
      "source": [
        "# define cnn model\n",
        "# describe cnn and what its doing (2 layer)\n",
        "conv1 = nn.Conv2d(1, 6, 3, 1)\n",
        "conv2 = nn.Conv2d(6, 16, 3, 1)\n",
        "\n"
      ],
      "metadata": {
        "id": "uQGUwREo3IIw"
      },
      "execution_count": 7,
      "outputs": []
    },
    {
      "cell_type": "code",
      "source": [
        "# grab 1 MNIST image\n",
        "for i , (X_Train, y_train) in enumerate(train_data):\n",
        "  break"
      ],
      "metadata": {
        "id": "tmtDNopq4AHA"
      },
      "execution_count": 8,
      "outputs": []
    },
    {
      "cell_type": "code",
      "source": [
        "X_Train.shape"
      ],
      "metadata": {
        "id": "3oDI3M7k4b2b",
        "outputId": "1f3b4d20-8d5a-4aec-9714-c07076fd6107",
        "colab": {
          "base_uri": "https://localhost:8080/"
        }
      },
      "execution_count": 9,
      "outputs": [
        {
          "output_type": "execute_result",
          "data": {
            "text/plain": [
              "torch.Size([1, 28, 28])"
            ]
          },
          "metadata": {},
          "execution_count": 9
        }
      ]
    },
    {
      "cell_type": "code",
      "source": [
        "x = X_Train.view(1,1,28,28)"
      ],
      "metadata": {
        "id": "D-Zqv60T4lXx"
      },
      "execution_count": 10,
      "outputs": []
    },
    {
      "cell_type": "code",
      "source": [
        "# perform first cnn\n",
        "x = F.relu(conv1(x))"
      ],
      "metadata": {
        "id": "dIV7N4xp4y9u"
      },
      "execution_count": 11,
      "outputs": []
    },
    {
      "cell_type": "code",
      "source": [
        "# 1 single image, 6 is the filter we asked for, 26*26 discharge 2 pixel cause the good stuff is in the middle\n",
        "x.shape"
      ],
      "metadata": {
        "id": "eF79m3ao5IQ8",
        "outputId": "a0aeff09-4d0f-4551-8e87-d7077c8a0211",
        "colab": {
          "base_uri": "https://localhost:8080/"
        }
      },
      "execution_count": 12,
      "outputs": [
        {
          "output_type": "execute_result",
          "data": {
            "text/plain": [
              "torch.Size([1, 6, 26, 26])"
            ]
          },
          "metadata": {},
          "execution_count": 12
        }
      ]
    },
    {
      "cell_type": "code",
      "source": [
        "# pass thru pooling layer\n",
        "x = F.max_pool2d(x,2,2)  # kernel  of 2 and stride of 2"
      ],
      "metadata": {
        "id": "AVi7roualbKJ"
      },
      "execution_count": 13,
      "outputs": []
    },
    {
      "cell_type": "code",
      "source": [
        "x.shape"
      ],
      "metadata": {
        "id": "a_BB-y51msok",
        "outputId": "afaf289b-0d45-4ba9-be7a-827513d7cfe5",
        "colab": {
          "base_uri": "https://localhost:8080/"
        }
      },
      "execution_count": 14,
      "outputs": [
        {
          "output_type": "execute_result",
          "data": {
            "text/plain": [
              "torch.Size([1, 6, 13, 13])"
            ]
          },
          "metadata": {},
          "execution_count": 14
        }
      ]
    },
    {
      "cell_type": "code",
      "source": [
        "# do our second convolution layer\n",
        "x = F.relu(conv2(x))"
      ],
      "metadata": {
        "id": "D-fOH5vmm9Bn"
      },
      "execution_count": 15,
      "outputs": []
    },
    {
      "cell_type": "code",
      "source": [
        "x.shape"
      ],
      "metadata": {
        "id": "u9LdRMl4nMMv",
        "outputId": "29d48060-3fb6-47c3-e33c-631f1224ba3c",
        "colab": {
          "base_uri": "https://localhost:8080/"
        }
      },
      "execution_count": 16,
      "outputs": [
        {
          "output_type": "execute_result",
          "data": {
            "text/plain": [
              "torch.Size([1, 16, 11, 11])"
            ]
          },
          "metadata": {},
          "execution_count": 16
        }
      ]
    },
    {
      "cell_type": "code",
      "source": [
        "# pooling layer\n",
        "x = F.max_pool2d(x,2,2)"
      ],
      "metadata": {
        "id": "dosMLy9znb0y"
      },
      "execution_count": 17,
      "outputs": []
    },
    {
      "cell_type": "code",
      "source": [
        "x.shape"
      ],
      "metadata": {
        "id": "N7cJXST0nmuJ",
        "outputId": "5fb29c5a-ec71-4a02-b367-12cf6e1972cc",
        "colab": {
          "base_uri": "https://localhost:8080/"
        }
      },
      "execution_count": 18,
      "outputs": [
        {
          "output_type": "execute_result",
          "data": {
            "text/plain": [
              "torch.Size([1, 16, 5, 5])"
            ]
          },
          "metadata": {},
          "execution_count": 18
        }
      ]
    },
    {
      "cell_type": "code",
      "source": [
        "# model class\n",
        "class ConvolutionalNetwork(nn.Module):\n",
        "  def __init__(self):\n",
        "    super().__init__()\n",
        "    self.conv1 = nn.Conv2d(1, 6, 3, 1)\n",
        "    self.conv2 = nn.Conv2d(6, 16, 3, 1)\n",
        "    # fully connected later\n",
        "    self.fc1 = nn.Linear(5*5*16, 120)\n",
        "    self.fc2 = nn.Linear(120, 84)\n",
        "    self.fc3 = nn.Linear(84, 10)\n",
        "  def forward(self, X):\n",
        "    X = F.relu(self.conv1(X))\n",
        "    X = F.max_pool2d(X,2,2) # 2*2 kernel stride\n",
        "    # second pass\n",
        "    X = F.relu(self.conv2(X))\n",
        "    X = F.max_pool2d(X,2,2) # 2*2 kernel stride\n",
        "\n",
        "    # review our data to flatten out\n",
        "    X = X.view(-1, 16*5*5)  # -1 so we can vary the batch size\n",
        "\n",
        "    # fully connected layer\n",
        "    X = F.relu(self.fc1(X))\n",
        "    X = F.relu(self.fc2(X))\n",
        "    X = self.fc3(X)\n",
        "\n",
        "    return F.log_softmax(X, dim=1)\n"
      ],
      "metadata": {
        "id": "RvXeq_3_oMiu"
      },
      "execution_count": 26,
      "outputs": []
    },
    {
      "cell_type": "code",
      "source": [
        "# create an instance of our model\n",
        "torch.manual_seed(41)\n",
        "model = ConvolutionalNetwork()\n",
        "model"
      ],
      "metadata": {
        "id": "Q-Y5JXTJJUNA",
        "outputId": "a40d4942-7883-46d0-d505-f71bd956734c",
        "colab": {
          "base_uri": "https://localhost:8080/"
        }
      },
      "execution_count": 27,
      "outputs": [
        {
          "output_type": "execute_result",
          "data": {
            "text/plain": [
              "ConvolutionalNetwork(\n",
              "  (conv1): Conv2d(1, 6, kernel_size=(3, 3), stride=(1, 1))\n",
              "  (conv2): Conv2d(6, 16, kernel_size=(3, 3), stride=(1, 1))\n",
              "  (fc1): Linear(in_features=400, out_features=120, bias=True)\n",
              "  (fc2): Linear(in_features=120, out_features=84, bias=True)\n",
              "  (fc3): Linear(in_features=84, out_features=10, bias=True)\n",
              ")"
            ]
          },
          "metadata": {},
          "execution_count": 27
        }
      ]
    },
    {
      "cell_type": "code",
      "source": [
        "# loss function optimizer\n",
        "criterion = nn.CrossEntropyLoss()\n",
        "optimizer = torch.optim.Adam(model.parameters(), lr = 0.001)  # the smaller the learning rate the longer the time to train"
      ],
      "metadata": {
        "id": "MLg5-2GuJvRz"
      },
      "execution_count": 28,
      "outputs": []
    },
    {
      "cell_type": "code",
      "source": [
        "import time\n",
        "start_time = time.time()\n",
        "\n",
        "# Create Variables To Tracks Things\n",
        "epochs = 5\n",
        "train_losses = []\n",
        "test_losses = []\n",
        "train_correct = []\n",
        "test_correct = []\n",
        "\n",
        "# For Loop of Epochs\n",
        "for i in range(epochs):\n",
        "  trn_corr = 0\n",
        "  tst_corr = 0\n",
        "\n",
        "\n",
        "  # Train\n",
        "  for b,(X_train, y_train) in enumerate(train_loader):\n",
        "    b+=1 # start our batches at 1\n",
        "    y_pred = model(X_train) # get predicted values from the training set. Not flattened 2D\n",
        "    loss = criterion(y_pred, y_train) # how off are we? Compare the predictions to correct answers in y_train\n",
        "\n",
        "    predicted = torch.max(y_pred.data, 1)[1] # add up the number of correct predictions. Indexed off the first point\n",
        "    batch_corr = (predicted == y_train).sum() # how many we got correct from this batch. True = 1, False=0, sum those up\n",
        "    trn_corr += batch_corr # keep track as we go along in training.\n",
        "\n",
        "    # Update our parameters\n",
        "    optimizer.zero_grad()\n",
        "    loss.backward()\n",
        "    optimizer.step()\n",
        "\n",
        "\n",
        "    # Print out some results\n",
        "    if b%600 == 0:\n",
        "      print(f'Epoch: {i}  Batch: {b}  Loss: {loss.item()}')\n",
        "\n",
        "  train_losses.append(loss)\n",
        "  train_correct.append(trn_corr)\n",
        "\n",
        "\n",
        "  # Test\n",
        "  with torch.no_grad(): #No gradient so we don't update our weights and biases with test data\n",
        "    for b,(X_test, y_test) in enumerate(test_loader):\n",
        "      y_val = model(X_test)\n",
        "      predicted = torch.max(y_val.data, 1)[1] # Adding up correct predictions\n",
        "      tst_corr += (predicted == y_test).sum() # T=1 F=0 and sum away\n",
        "\n",
        "\n",
        "  loss = criterion(y_val, y_test)\n",
        "  test_losses.append(loss)\n",
        "  test_correct.append(tst_corr)\n",
        "\n",
        "\n",
        "\n",
        "current_time = time.time()\n",
        "total = current_time - start_time\n",
        "print(f'Training Took: {total/60} minutes!')"
      ],
      "metadata": {
        "id": "H2gpaCD6R4GA",
        "outputId": "dd41d713-31b7-4342-f0fc-b672e38cfaf1",
        "colab": {
          "base_uri": "https://localhost:8080/"
        }
      },
      "execution_count": 29,
      "outputs": [
        {
          "output_type": "stream",
          "name": "stdout",
          "text": [
            "Epoch: 0  Batch: 600  Loss: 0.1623610556125641\n",
            "Epoch: 0  Batch: 1200  Loss: 0.1502392590045929\n",
            "Epoch: 0  Batch: 1800  Loss: 0.4744560718536377\n",
            "Epoch: 0  Batch: 2400  Loss: 0.14238706231117249\n",
            "Epoch: 0  Batch: 3000  Loss: 0.007758188061416149\n",
            "Epoch: 0  Batch: 3600  Loss: 0.3836284875869751\n",
            "Epoch: 0  Batch: 4200  Loss: 0.0038223876617848873\n",
            "Epoch: 0  Batch: 4800  Loss: 0.0021286322735249996\n",
            "Epoch: 0  Batch: 5400  Loss: 0.0569545142352581\n",
            "Epoch: 0  Batch: 6000  Loss: 0.00038789428072050214\n",
            "Epoch: 1  Batch: 600  Loss: 0.005851339548826218\n",
            "Epoch: 1  Batch: 1200  Loss: 0.3855525553226471\n",
            "Epoch: 1  Batch: 1800  Loss: 0.004819948226213455\n",
            "Epoch: 1  Batch: 2400  Loss: 0.003216963727027178\n",
            "Epoch: 1  Batch: 3000  Loss: 0.0332382395863533\n",
            "Epoch: 1  Batch: 3600  Loss: 0.5372857451438904\n",
            "Epoch: 1  Batch: 4200  Loss: 0.04561494290828705\n",
            "Epoch: 1  Batch: 4800  Loss: 0.0007510822033509612\n",
            "Epoch: 1  Batch: 5400  Loss: 0.0001173773780465126\n",
            "Epoch: 1  Batch: 6000  Loss: 0.14201366901397705\n",
            "Epoch: 2  Batch: 600  Loss: 0.023733172565698624\n",
            "Epoch: 2  Batch: 1200  Loss: 0.003455493599176407\n",
            "Epoch: 2  Batch: 1800  Loss: 0.0008372392621822655\n",
            "Epoch: 2  Batch: 2400  Loss: 0.010705141350626945\n",
            "Epoch: 2  Batch: 3000  Loss: 0.008078320883214474\n",
            "Epoch: 2  Batch: 3600  Loss: 0.0011862406972795725\n",
            "Epoch: 2  Batch: 4200  Loss: 0.038080841302871704\n",
            "Epoch: 2  Batch: 4800  Loss: 0.0016068397089838982\n",
            "Epoch: 2  Batch: 5400  Loss: 0.138673797249794\n",
            "Epoch: 2  Batch: 6000  Loss: 0.2449204921722412\n",
            "Epoch: 3  Batch: 600  Loss: 0.007151054684072733\n",
            "Epoch: 3  Batch: 1200  Loss: 0.011097034439444542\n",
            "Epoch: 3  Batch: 1800  Loss: 0.0017998721450567245\n",
            "Epoch: 3  Batch: 2400  Loss: 0.0001049584461725317\n",
            "Epoch: 3  Batch: 3000  Loss: 0.0031431831885129213\n",
            "Epoch: 3  Batch: 3600  Loss: 0.003668801160529256\n",
            "Epoch: 3  Batch: 4200  Loss: 0.0037249946035444736\n",
            "Epoch: 3  Batch: 4800  Loss: 0.00015864608576521277\n",
            "Epoch: 3  Batch: 5400  Loss: 0.0796482041478157\n",
            "Epoch: 3  Batch: 6000  Loss: 0.0808732658624649\n",
            "Epoch: 4  Batch: 600  Loss: 0.014099588617682457\n",
            "Epoch: 4  Batch: 1200  Loss: 0.0382874570786953\n",
            "Epoch: 4  Batch: 1800  Loss: 0.16302265226840973\n",
            "Epoch: 4  Batch: 2400  Loss: 0.02186887338757515\n",
            "Epoch: 4  Batch: 3000  Loss: 0.0024396399967372417\n",
            "Epoch: 4  Batch: 3600  Loss: 0.0013979513896629214\n",
            "Epoch: 4  Batch: 4200  Loss: 0.000989563181065023\n",
            "Epoch: 4  Batch: 4800  Loss: 0.010317974723875523\n",
            "Epoch: 4  Batch: 5400  Loss: 0.16506639122962952\n",
            "Epoch: 4  Batch: 6000  Loss: 0.0027098222635686398\n",
            "Training Took: 3.291546912988027 minutes!\n"
          ]
        }
      ]
    }
  ]
}